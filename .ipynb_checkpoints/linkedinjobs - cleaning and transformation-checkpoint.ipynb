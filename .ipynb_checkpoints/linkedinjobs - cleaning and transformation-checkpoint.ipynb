{
 "cells": [
  {
   "cell_type": "markdown",
   "id": "c90cb93a-afd0-4049-9442-94bd1379715d",
   "metadata": {},
   "source": [
    "# Importing modules"
   ]
  },
  {
   "cell_type": "code",
   "execution_count": 46,
   "id": "c1aef83b-4f49-42a2-86cd-d33cb3c4f703",
   "metadata": {},
   "outputs": [],
   "source": [
    "import re\n",
    "import spacy\n",
    "import requests\n",
    "import warnings\n",
    "import pandas as pd\n",
    "from bs4 import BeautifulSoup\n",
    "warnings.filterwarnings('ignore')"
   ]
  },
  {
   "cell_type": "markdown",
   "id": "8a292dc5-c329-45d8-8b6c-6b5764dae269",
   "metadata": {},
   "source": [
    "# Importing datasets "
   ]
  },
  {
   "cell_type": "code",
   "execution_count": 17,
   "id": "acc31fe2-cde1-48ab-9945-5a5ad927f689",
   "metadata": {},
   "outputs": [],
   "source": [
    "jobs_list = pd.read_csv(\"C:/Users/afari/Desktop/python2024/datacleaning/new_scrape.csv\")"
   ]
  },
  {
   "cell_type": "code",
   "execution_count": 18,
   "id": "58884297-cd41-4f9f-b4d6-834b4c6cab98",
   "metadata": {},
   "outputs": [
    {
     "name": "stdout",
     "output_type": "stream",
     "text": [
      "<class 'pandas.core.frame.DataFrame'>\n",
      "RangeIndex: 3253 entries, 0 to 3252\n",
      "Data columns (total 6 columns):\n",
      " #   Column            Non-Null Count  Dtype \n",
      "---  ------            --------------  ----- \n",
      " 0   job_title         3253 non-null   object\n",
      " 1   job_detail_url    3253 non-null   object\n",
      " 2   job_listed        3253 non-null   object\n",
      " 3   company_name      3253 non-null   object\n",
      " 4   company_link      3253 non-null   object\n",
      " 5   company_location  3253 non-null   object\n",
      "dtypes: object(6)\n",
      "memory usage: 152.6+ KB\n"
     ]
    }
   ],
   "source": [
    "jobs_list.info()"
   ]
  },
  {
   "cell_type": "code",
   "execution_count": 19,
   "id": "b1593e2d-146c-4047-b1ea-71bd5e7dfd29",
   "metadata": {},
   "outputs": [],
   "source": [
    "job_details = pd.read_csv(\"C:/Users/afari/Desktop/python2024/datacleaning/new_scrape_details.csv\")"
   ]
  },
  {
   "cell_type": "code",
   "execution_count": 20,
   "id": "23784691-e009-4500-86f8-0c404378f469",
   "metadata": {},
   "outputs": [
    {
     "name": "stdout",
     "output_type": "stream",
     "text": [
      "<class 'pandas.core.frame.DataFrame'>\n",
      "RangeIndex: 2709 entries, 0 to 2708\n",
      "Data columns (total 6 columns):\n",
      " #   Column           Non-Null Count  Dtype \n",
      "---  ------           --------------  ----- \n",
      " 0   job_details      2709 non-null   object\n",
      " 1   seniority_level  2709 non-null   object\n",
      " 2   employment_type  2709 non-null   object\n",
      " 3   job_function     2709 non-null   object\n",
      " 4   industry         2709 non-null   object\n",
      " 5   source_url       2709 non-null   object\n",
      "dtypes: object(6)\n",
      "memory usage: 127.1+ KB\n"
     ]
    }
   ],
   "source": [
    "job_details.info()"
   ]
  },
  {
   "cell_type": "markdown",
   "id": "839d4d2d-c450-4d61-bbd3-fb24cdddbf73",
   "metadata": {},
   "source": [
    "# Merging datasets and droping duplicates"
   ]
  },
  {
   "cell_type": "code",
   "execution_count": 21,
   "id": "4418e5d8-2bc4-4abe-a814-d8233deb6bfd",
   "metadata": {},
   "outputs": [],
   "source": [
    "job = jobs_list.merge(job_details, how= \"right\", left_on=\"job_detail_url\", right_on=\"source_url\")"
   ]
  },
  {
   "cell_type": "code",
   "execution_count": 22,
   "id": "00dfc893-0a91-4128-8195-5647259d241b",
   "metadata": {},
   "outputs": [],
   "source": [
    "jobs = job.drop_duplicates()"
   ]
  },
  {
   "cell_type": "code",
   "execution_count": 23,
   "id": "072c8baf-b585-49a3-bec0-1d9d8c454935",
   "metadata": {},
   "outputs": [
    {
     "name": "stdout",
     "output_type": "stream",
     "text": [
      "<class 'pandas.core.frame.DataFrame'>\n",
      "Index: 2696 entries, 0 to 2708\n",
      "Data columns (total 12 columns):\n",
      " #   Column            Non-Null Count  Dtype \n",
      "---  ------            --------------  ----- \n",
      " 0   job_title         2696 non-null   object\n",
      " 1   job_detail_url    2696 non-null   object\n",
      " 2   job_listed        2696 non-null   object\n",
      " 3   company_name      2696 non-null   object\n",
      " 4   company_link      2696 non-null   object\n",
      " 5   company_location  2696 non-null   object\n",
      " 6   job_details       2696 non-null   object\n",
      " 7   seniority_level   2696 non-null   object\n",
      " 8   employment_type   2696 non-null   object\n",
      " 9   job_function      2696 non-null   object\n",
      " 10  industry          2696 non-null   object\n",
      " 11  source_url        2696 non-null   object\n",
      "dtypes: object(12)\n",
      "memory usage: 273.8+ KB\n"
     ]
    }
   ],
   "source": [
    "jobs.info()"
   ]
  },
  {
   "cell_type": "markdown",
   "id": "4baf552d-f731-4ea7-a705-18bf9cfe729f",
   "metadata": {},
   "source": [
    "# Cleaning Columns - company_location"
   ]
  },
  {
   "cell_type": "markdown",
   "id": "c2d7a343",
   "metadata": {},
   "source": [
    "### spliting location into city and region, all jobs are from the same country (United Kingdom)"
   ]
  },
  {
   "cell_type": "code",
   "execution_count": 24,
   "id": "3dfa2f3f-2f93-432c-bc01-188d03408abd",
   "metadata": {},
   "outputs": [],
   "source": [
    "def locate(df, df_column, new_column, regex):\n",
    "    df[new_column] = df[df_column].str.extract(regex)\n",
    "    return df\n",
    "    "
   ]
  },
  {
   "cell_type": "code",
   "execution_count": 25,
   "id": "6b23ff0f-9109-4300-9ce7-4d1330659f2f",
   "metadata": {},
   "outputs": [],
   "source": [
    "jobs_with_cities = locate(jobs, \"company_location\", \"company_city\" , r'^\\s*([^,]*)')"
   ]
  },
  {
   "cell_type": "code",
   "execution_count": 26,
   "id": "0298d825-9811-4ff8-bc2f-44661300e1d4",
   "metadata": {},
   "outputs": [],
   "source": [
    "jobs_with_regions = locate(jobs_with_cities, \"company_location\", \"company_region\", r'[^,]*,\\s*([^,]*)')"
   ]
  },
  {
   "cell_type": "code",
   "execution_count": null,
   "id": "21aa3af2-4ff7-4647-b0ef-9f54752ad9b0",
   "metadata": {},
   "outputs": [],
   "source": []
  },
  {
   "cell_type": "markdown",
   "id": "bb820a89-3bbc-4a58-91c9-fc848d0293dd",
   "metadata": {},
   "source": [
    "# Cleaning Columns - job_details"
   ]
  },
  {
   "cell_type": "markdown",
   "id": "a917f3b9-89d0-49b5-8d44-488b333b28a7",
   "metadata": {},
   "source": [
    "### job details have html elements in them removing unnecessary values to ensure we have only descriptive text"
   ]
  },
  {
   "cell_type": "code",
   "execution_count": 27,
   "id": "0f8ccfe6-5f5b-4ca4-ac3a-8e64a7009eb2",
   "metadata": {},
   "outputs": [],
   "source": [
    "def remove_tags(text):\n",
    "    soup = BeautifulSoup(text, 'html.parser')\n",
    "    return soup.get_text()"
   ]
  },
  {
   "cell_type": "code",
   "execution_count": 28,
   "id": "0b742aee-13bf-4070-a2d8-70f7977c02d5",
   "metadata": {},
   "outputs": [],
   "source": [
    "jobs_with_regions[\"job_details\"] = jobs_with_regions[\"job_details\"].apply(remove_tags)"
   ]
  },
  {
   "cell_type": "code",
   "execution_count": 16,
   "id": "19baeea5-991b-436f-89d1-f45a8f627af2",
   "metadata": {},
   "outputs": [],
   "source": []
  },
  {
   "cell_type": "markdown",
   "id": "785e7ea1",
   "metadata": {},
   "source": [
    "# Creating New Features"
   ]
  },
  {
   "cell_type": "markdown",
   "id": "e9864c2f-048b-4338-808f-7e9eda14e685",
   "metadata": {},
   "source": [
    "## Data Transformation - extracting salary information from job details (With Regex)"
   ]
  },
  {
   "cell_type": "markdown",
   "id": "bb8ddfa6-7fe5-4e8c-9cba-9fb01f240c6a",
   "metadata": {},
   "source": [
    "### extracting salary information from job details"
   ]
  },
  {
   "cell_type": "code",
   "execution_count": 29,
   "id": "d881e5e6-9715-4cb9-8691-d4993c8ad1ba",
   "metadata": {},
   "outputs": [],
   "source": [
    "jobs_with_salaries = jobs_with_regions"
   ]
  },
  {
   "cell_type": "code",
   "execution_count": 30,
   "id": "93547e7c-b4e1-4934-8491-a4e2f41ff463",
   "metadata": {},
   "outputs": [],
   "source": [
    "def find_salary_matches(text):\n",
    "    pattern = r'£(\\d{1,2}(?:,\\d{3})*)(\\.\\d{2})?([kK])?'\n",
    "    matches = re.findall(pattern, text)\n",
    "    salary_matches = [\"\".join(match) for match in matches]\n",
    "    \n",
    "    pattern_b = r'(£\\d{1,2}K)\\1'\n",
    "    corrected_text = [re.sub(pattern_b, r'\\1', salary) for salary in salary_matches]\n",
    "    \n",
    "    return corrected_text"
   ]
  },
  {
   "cell_type": "code",
   "execution_count": 31,
   "id": "8788fcc3-9a88-41d4-80d0-5e42944fc17f",
   "metadata": {},
   "outputs": [],
   "source": [
    "jobs_with_salaries['salaries'] = jobs_with_salaries[\"job_details\"].apply(find_salary_matches)"
   ]
  },
  {
   "cell_type": "code",
   "execution_count": 33,
   "id": "4ddad480-2b26-48dc-b096-bf5c2b4f5d4b",
   "metadata": {},
   "outputs": [
    {
     "data": {
      "text/html": [
       "<div>\n",
       "<style scoped>\n",
       "    .dataframe tbody tr th:only-of-type {\n",
       "        vertical-align: middle;\n",
       "    }\n",
       "\n",
       "    .dataframe tbody tr th {\n",
       "        vertical-align: top;\n",
       "    }\n",
       "\n",
       "    .dataframe thead th {\n",
       "        text-align: right;\n",
       "    }\n",
       "</style>\n",
       "<table border=\"1\" class=\"dataframe\">\n",
       "  <thead>\n",
       "    <tr style=\"text-align: right;\">\n",
       "      <th></th>\n",
       "      <th>job_title</th>\n",
       "      <th>job_detail_url</th>\n",
       "      <th>job_listed</th>\n",
       "      <th>company_name</th>\n",
       "      <th>company_link</th>\n",
       "      <th>company_location</th>\n",
       "      <th>job_details</th>\n",
       "      <th>seniority_level</th>\n",
       "      <th>employment_type</th>\n",
       "      <th>job_function</th>\n",
       "      <th>industry</th>\n",
       "      <th>source_url</th>\n",
       "      <th>company_city</th>\n",
       "      <th>company_region</th>\n",
       "      <th>salaries</th>\n",
       "    </tr>\n",
       "  </thead>\n",
       "  <tbody>\n",
       "    <tr>\n",
       "      <th>0</th>\n",
       "      <td>Data Analyst / BI Developer (Contract) - London</td>\n",
       "      <td>https://uk.linkedin.com/jobs/view/data-analyst...</td>\n",
       "      <td>23 hours ago</td>\n",
       "      <td>IT Search and Selection</td>\n",
       "      <td>https://ie.linkedin.com/company/it-search---du...</td>\n",
       "      <td>London, England, United Kingdom</td>\n",
       "      <td>Data Analyst / BI Developer (Contract) - Lond...</td>\n",
       "      <td>Mid-Senior level</td>\n",
       "      <td>Contract</td>\n",
       "      <td>Information Technology</td>\n",
       "      <td>Data Infrastructure and Analytics and IT Syste...</td>\n",
       "      <td>https://uk.linkedin.com/jobs/view/data-analyst...</td>\n",
       "      <td>London</td>\n",
       "      <td>England</td>\n",
       "      <td>[40]</td>\n",
       "    </tr>\n",
       "    <tr>\n",
       "      <th>1</th>\n",
       "      <td>Business Data Analyst</td>\n",
       "      <td>https://uk.linkedin.com/jobs/view/business-dat...</td>\n",
       "      <td>2 weeks ago</td>\n",
       "      <td>Synechron</td>\n",
       "      <td>https://www.linkedin.com/company/synechron?trk...</td>\n",
       "      <td>London, England, United Kingdom</td>\n",
       "      <td>About us:Synechron is a self-funded, leading ...</td>\n",
       "      <td>Mid-Senior level</td>\n",
       "      <td>Full-time</td>\n",
       "      <td>Engineering, Consulting, and Information Techn...</td>\n",
       "      <td>Financial Services, Capital Markets, and Insur...</td>\n",
       "      <td>https://uk.linkedin.com/jobs/view/business-dat...</td>\n",
       "      <td>London</td>\n",
       "      <td>England</td>\n",
       "      <td>[]</td>\n",
       "    </tr>\n",
       "    <tr>\n",
       "      <th>2</th>\n",
       "      <td>Data Analyst (ex Facebook and Google)</td>\n",
       "      <td>https://uk.linkedin.com/jobs/view/data-analyst...</td>\n",
       "      <td>2 hours ago</td>\n",
       "      <td>Oho Group Ltd</td>\n",
       "      <td>https://uk.linkedin.com/company/oho-group-ltd?...</td>\n",
       "      <td>London, England, United Kingdom</td>\n",
       "      <td>Data Analyst - Fast Growing FinTech (ex Faceb...</td>\n",
       "      <td>Entry level</td>\n",
       "      <td>Full-time</td>\n",
       "      <td>Analyst</td>\n",
       "      <td>Financial Services and Software Development</td>\n",
       "      <td>https://uk.linkedin.com/jobs/view/data-analyst...</td>\n",
       "      <td>London</td>\n",
       "      <td>England</td>\n",
       "      <td>[30]</td>\n",
       "    </tr>\n",
       "    <tr>\n",
       "      <th>3</th>\n",
       "      <td>Business Analyst â€“ Data focused â€“ up to Â£...</td>\n",
       "      <td>https://uk.linkedin.com/jobs/view/business-ana...</td>\n",
       "      <td>3 days ago</td>\n",
       "      <td>Saragossa</td>\n",
       "      <td>https://uk.linkedin.com/company/saragossa?trk=...</td>\n",
       "      <td>London, England, United Kingdom</td>\n",
       "      <td>Join the transformation team of an investment...</td>\n",
       "      <td>Mid-Senior level</td>\n",
       "      <td>Full-time</td>\n",
       "      <td>Information Technology, Finance, and Project M...</td>\n",
       "      <td>Venture Capital and Private Equity Principals,...</td>\n",
       "      <td>https://uk.linkedin.com/jobs/view/business-ana...</td>\n",
       "      <td>London</td>\n",
       "      <td>England</td>\n",
       "      <td>[90,000]</td>\n",
       "    </tr>\n",
       "    <tr>\n",
       "      <th>4</th>\n",
       "      <td>Business Data Analyst</td>\n",
       "      <td>https://uk.linkedin.com/jobs/view/business-dat...</td>\n",
       "      <td>2 weeks ago</td>\n",
       "      <td>DGH Recruitment</td>\n",
       "      <td>https://uk.linkedin.com/company/dgh-recruitmen...</td>\n",
       "      <td>London, England, United Kingdom</td>\n",
       "      <td>IT Data Analyst / Business Data AnalystMy cli...</td>\n",
       "      <td>Mid-Senior level</td>\n",
       "      <td>Full-time</td>\n",
       "      <td>Information Technology</td>\n",
       "      <td>Legal Services, Data Infrastructure and Analyt...</td>\n",
       "      <td>https://uk.linkedin.com/jobs/view/business-dat...</td>\n",
       "      <td>London</td>\n",
       "      <td>England</td>\n",
       "      <td>[]</td>\n",
       "    </tr>\n",
       "  </tbody>\n",
       "</table>\n",
       "</div>"
      ],
      "text/plain": [
       "                                           job_title  \\\n",
       "0    Data Analyst / BI Developer (Contract) - London   \n",
       "1                              Business Data Analyst   \n",
       "2              Data Analyst (ex Facebook and Google)   \n",
       "3  Business Analyst â€“ Data focused â€“ up to Â£...   \n",
       "4                              Business Data Analyst   \n",
       "\n",
       "                                      job_detail_url    job_listed  \\\n",
       "0  https://uk.linkedin.com/jobs/view/data-analyst...  23 hours ago   \n",
       "1  https://uk.linkedin.com/jobs/view/business-dat...   2 weeks ago   \n",
       "2  https://uk.linkedin.com/jobs/view/data-analyst...   2 hours ago   \n",
       "3  https://uk.linkedin.com/jobs/view/business-ana...    3 days ago   \n",
       "4  https://uk.linkedin.com/jobs/view/business-dat...   2 weeks ago   \n",
       "\n",
       "              company_name                                       company_link  \\\n",
       "0  IT Search and Selection  https://ie.linkedin.com/company/it-search---du...   \n",
       "1                Synechron  https://www.linkedin.com/company/synechron?trk...   \n",
       "2            Oho Group Ltd  https://uk.linkedin.com/company/oho-group-ltd?...   \n",
       "3                Saragossa  https://uk.linkedin.com/company/saragossa?trk=...   \n",
       "4          DGH Recruitment  https://uk.linkedin.com/company/dgh-recruitmen...   \n",
       "\n",
       "                  company_location  \\\n",
       "0  London, England, United Kingdom   \n",
       "1  London, England, United Kingdom   \n",
       "2  London, England, United Kingdom   \n",
       "3  London, England, United Kingdom   \n",
       "4  London, England, United Kingdom   \n",
       "\n",
       "                                         job_details   seniority_level  \\\n",
       "0   Data Analyst / BI Developer (Contract) - Lond...  Mid-Senior level   \n",
       "1   About us:Synechron is a self-funded, leading ...  Mid-Senior level   \n",
       "2   Data Analyst - Fast Growing FinTech (ex Faceb...       Entry level   \n",
       "3   Join the transformation team of an investment...  Mid-Senior level   \n",
       "4   IT Data Analyst / Business Data AnalystMy cli...  Mid-Senior level   \n",
       "\n",
       "  employment_type                                       job_function  \\\n",
       "0        Contract                             Information Technology   \n",
       "1       Full-time  Engineering, Consulting, and Information Techn...   \n",
       "2       Full-time                                            Analyst   \n",
       "3       Full-time  Information Technology, Finance, and Project M...   \n",
       "4       Full-time                             Information Technology   \n",
       "\n",
       "                                            industry  \\\n",
       "0  Data Infrastructure and Analytics and IT Syste...   \n",
       "1  Financial Services, Capital Markets, and Insur...   \n",
       "2        Financial Services and Software Development   \n",
       "3  Venture Capital and Private Equity Principals,...   \n",
       "4  Legal Services, Data Infrastructure and Analyt...   \n",
       "\n",
       "                                          source_url company_city  \\\n",
       "0  https://uk.linkedin.com/jobs/view/data-analyst...       London   \n",
       "1  https://uk.linkedin.com/jobs/view/business-dat...       London   \n",
       "2  https://uk.linkedin.com/jobs/view/data-analyst...       London   \n",
       "3  https://uk.linkedin.com/jobs/view/business-ana...       London   \n",
       "4  https://uk.linkedin.com/jobs/view/business-dat...       London   \n",
       "\n",
       "  company_region  salaries  \n",
       "0        England      [40]  \n",
       "1        England        []  \n",
       "2        England      [30]  \n",
       "3        England  [90,000]  \n",
       "4        England        []  "
      ]
     },
     "execution_count": 33,
     "metadata": {},
     "output_type": "execute_result"
    }
   ],
   "source": [
    "jobs_with_salaries.head(5)"
   ]
  },
  {
   "cell_type": "code",
   "execution_count": 34,
   "id": "3cbdda12-3a32-4863-a2de-df6b2ce01cd1",
   "metadata": {},
   "outputs": [],
   "source": [
    "\n",
    "cleaned_salary = []\n",
    "\n",
    "for salary_list in jobs_with_salaries['salaries']:\n",
    "    modification_needed = False\n",
    "    modified_list = []\n",
    "\n",
    "    for salary in salary_list:\n",
    "        if 'k' in salary.lower() and len(salary) <= 3:\n",
    "            modification_needed = True\n",
    "            value_no_k = salary.replace('k', '').replace('K', '')\n",
    "            new_value = value_no_k + ',000'\n",
    "            modified_list.append(new_value)\n",
    "        else:\n",
    "            modified_list.append(salary)\n",
    "    if modification_needed:\n",
    "        cleaned_salary.append(modified_list)\n",
    "    else:\n",
    "        cleaned_salary.append(salary_list)\n",
    "\n",
    "    \n",
    "\n",
    "jobs_with_salaries['salaries_three'] = cleaned_salary"
   ]
  },
  {
   "cell_type": "code",
   "execution_count": 35,
   "id": "826a7d1e-f707-4fe5-966f-dc2ed6737f49",
   "metadata": {},
   "outputs": [],
   "source": [
    "cleaned_values = []\n",
    "for salary_list in jobs_with_salaries['salaries_three']:\n",
    "    filtered_sublist = [item for item in salary_list if len(item) > 4]\n",
    "    cleaned_values.append(filtered_sublist)\n",
    "\n",
    "\n",
    "jobs_with_salaries['salaries_four'] = cleaned_values         "
   ]
  },
  {
   "cell_type": "code",
   "execution_count": 36,
   "id": "8b87c8db-aecd-4ff9-93e3-1d5293bbe31e",
   "metadata": {},
   "outputs": [],
   "source": [
    "cleaned_values = []\n",
    "for salary_list in jobs_with_salaries['salaries_four']:\n",
    "    filtered_sublist = [item for item in salary_list if len(item) <= 6]\n",
    "    cleaned_values.append(filtered_sublist)\n",
    "\n",
    "\n",
    "jobs_with_salaries['salaries_five'] = cleaned_values  "
   ]
  },
  {
   "cell_type": "code",
   "execution_count": 37,
   "id": "443a0857-be2d-4b60-b52c-c5a991cb895e",
   "metadata": {},
   "outputs": [],
   "source": [
    "cleaned_values = []\n",
    "for salary_list in jobs_with_salaries['salaries_five']:\n",
    "    filtered_sublist = salary_list[-2:] if len(salary_list) > 2 else salary_list\n",
    "    cleaned_values.append(filtered_sublist)\n",
    "\n",
    "        \n",
    "jobs_with_salaries['salaries_six'] = cleaned_values"
   ]
  },
  {
   "cell_type": "code",
   "execution_count": 38,
   "id": "8fdfa88a-61fb-426d-aa9d-33d00ad1faf7",
   "metadata": {},
   "outputs": [],
   "source": [
    "cleaned_salary = []\n",
    "for salary_list in jobs_with_salaries['salaries_six']:\n",
    "    modification_needed = False\n",
    "    modified_list = []\n",
    "    for salary in salary_list:\n",
    "        if ',' in salary:\n",
    "            modification_needed = True\n",
    "            value_no_comma = salary.replace(',','')\n",
    "            modified_list.append(value_no_comma)\n",
    "        else:\n",
    "            modified_list.append(value_no_comma)\n",
    "\n",
    "    if modification_needed:\n",
    "        cleaned_salary.append(modified_list)\n",
    "    else:\n",
    "        cleaned_salary.append(salary_list)\n",
    "\n",
    "jobs_with_salaries['salaries_seven'] = cleaned_salary       "
   ]
  },
  {
   "cell_type": "code",
   "execution_count": 39,
   "id": "f409389d-6896-422e-97da-e0d246827769",
   "metadata": {},
   "outputs": [],
   "source": [
    "jobs_with_salaries['salaries_cleaned'] = [','.join(sublist) for sublist in jobs_with_salaries['salaries_seven']]"
   ]
  },
  {
   "cell_type": "code",
   "execution_count": 40,
   "id": "79ee32e5-0fee-4b43-8815-ee26ef486bb7",
   "metadata": {},
   "outputs": [],
   "source": [
    "jobs_with_salaries[['salary_lower_bound', 'salary_upper_bound']] = jobs_with_salaries['salaries_cleaned'].str.split(',', expand = True)"
   ]
  },
  {
   "cell_type": "code",
   "execution_count": 42,
   "id": "33fcb9c0-60e6-4f24-bc3d-d07f21490f2d",
   "metadata": {},
   "outputs": [],
   "source": [
    "to_drop = ['salaries', 'salaries_three', 'salaries_four', 'salaries_five', 'salaries_six', 'salaries_seven']"
   ]
  },
  {
   "cell_type": "code",
   "execution_count": 43,
   "id": "29e5d1ac-a0f5-4db6-898c-8ccb23376ea0",
   "metadata": {},
   "outputs": [],
   "source": [
    "jobs_with_salaries.drop(columns=['salaries', 'salaries_three', 'salaries_four', 'salaries_five', 'salaries_six', 'salaries_seven'],  axis=1, inplace=True)"
   ]
  },
  {
   "cell_type": "code",
   "execution_count": 44,
   "id": "86d64074-2cfc-42ff-9942-dc064c694c78",
   "metadata": {},
   "outputs": [],
   "source": [
    "jobs_with_salaries['salary_lower_bound'] = pd.to_numeric(jobs_with_salaries['salary_lower_bound'], errors='coerce')"
   ]
  },
  {
   "cell_type": "code",
   "execution_count": 45,
   "id": "d0308ef1-8fe4-4e47-b43c-2ae78c55290b",
   "metadata": {},
   "outputs": [],
   "source": [
    "jobs_with_salaries['salary_upper_bound'] = pd.to_numeric(jobs_with_salaries['salary_upper_bound'], errors='coerce')"
   ]
  },
  {
   "cell_type": "markdown",
   "id": "d28d4579-d3a9-4ac2-a0d7-bd55ec974028",
   "metadata": {},
   "source": [
    "## Data Transformation - extracting tech stack"
   ]
  },
  {
   "cell_type": "code",
   "execution_count": 47,
   "id": "d21420f8-a787-4233-a8e0-350d00429def",
   "metadata": {},
   "outputs": [],
   "source": [
    "jobs_with_salaries['job_details'] = [desc.replace('R', 'R Studio') if ' R ' in desc else desc for desc in jobs_with_salaries['job_details']]"
   ]
  },
  {
   "cell_type": "code",
   "execution_count": 49,
   "id": "5681f4c6-7ec9-4650-98cd-da4ad7140e35",
   "metadata": {},
   "outputs": [],
   "source": [
    "tools_with_alternatives = [\n",
    "    \"tableau\", \"power bi\", \"qlikview\", \"qlik sense\", \"google data studio\", \"looker\",\n",
    "    \"sap businessobjects\", \"domo\", \"ibm cognos analytics\", \"microstrategy\", \"sisense\",\n",
    "    \"yellowfin bi\", \"plotly\", \"matplotlib\", \"seaborn\", \"bokeh\", \"d3.js\", \"pandas\",\n",
    "    \"numpy\", \"scipy\", \"scikit-learn\", \"tensorflow\", \"pytorch\", \"rapidminer\", \"matplotlib\",\n",
    "    \"seaborn\", \"ggplot2\", \"altair\", \"plotly\", \"jupyter notebook\", \"rstudio\", \"python\",\n",
    "    \"sql\", \"java\", \"javascript\", \"scala\", \"julia\", \"c/c++\", \"ruby\", \"matlab\", \"sas\",\n",
    "    \"shell scripting\", \"go\", \"php\", \"apache hadoop\", \"apache spark\",\n",
    "    \"apache kafka\", \"apache flink\", \"apache beam\", \"airflow\", \"talend\", \"informatica\",\n",
    "    \"apache nifi\", \"streamsets\", \"databricks\", \"google cloud dataflow\", \"aws glue\",\n",
    "    \"amazon redshift\", \"google bigquery\", \"azure sql data warehouse\", \"amazon s3\",\n",
    "    \"google cloud storage\", \"azure blob storage\", \"amazon emr\", \"google dataproc\",\n",
    "    \"azure hdinsight\", \"aws lambda\", \"google cloud functions\", \"azure functions\",\n",
    "    \"amazon athena\", \"google bigtable\", \"azure cosmos db\", \"amazon dynamodb\",\n",
    "    \"google firestore\", \"azure sql database\", \"amazon rds\", \"google cloud sql\",\n",
    "    \"azure data factory\", \"amazon kinesis\", \"google pub/sub\", \"azure event hubs\",\n",
    "    \"amazon quicksight\", \"google data studio\", \"power bi\", \"looker\", \"ibm watson studio\",\n",
    "    \"databricks\", \"google colab\", \"azure notebooks\", \"excel\", \"spreadsheet\", \"microsoft power bi\", \"dbt\",\n",
    "    \"domo\", \"powerbi\", \"dax\", \"mysql\",  'power automate', 'power query', 'bigquery', 'tableau', 'tableau prep',\n",
    "    'ms azure', \"aws glue\", \"aws redshift\", \"t-sql\", \"microsoft azure\", \"snowflake\", \"dax\", \"aws athena\", \"alteryx\",\n",
    "    \"bigquery\", \"google cloud platform\", \"gcp\" , \"microsoft azure\", \"bash\", \"r studio\",\n",
    "    'excel', 'looker', 'powerbi', 'tableau', 'qlik sense', 'qlik view','pyplot','plotly','seaborn', 'matplotlib', 'alteryx',\n",
    "    'python', 'openrefine', 'alteryx designer', 'dataiku', 'dax',' m ', 'dbt',\n",
    "    'jupyter', 'pandas', 'numpy', 'stata', 'google sheets','matlab', 'dplyr', 'vba', 'seaborn', \n",
    "    'sqL server', 'microsoft sqL server', 'redshift', 'google bigquery', 'mysql','snowflake', 'access', 'postgres',\n",
    "    'microsoft azure data lake', 'oracle databases', 'aws rds', 't-sql', 'athena', 'airflow', 'aws glue',\n",
    "    'jupyter', 'pandas', 'numpy','sagemaker', 'scikit-learn','pytorch','tensorflow', 'selenium',\n",
    "    'azure', 'aws', 'aws s3', 'aws redshift', 'aws glue','azure data factory', 'microsoft azure data lake', 'azure enterprise data platform',\n",
    "    's3','aws lambda','aws rds', 'google cloud platform', 'sagemaker','athena', 'powerbi', 'tableau', 'qlik sense', 'qlik view', 'domo', 'data studio'    \n",
    "]"
   ]
  },
  {
   "cell_type": "code",
   "execution_count": 50,
   "id": "ef3a800d-0342-490b-ba6a-c47d00e868a7",
   "metadata": {},
   "outputs": [],
   "source": [
    "tools_with_alternatives_unique = list(set(tools_with_alternatives))"
   ]
  },
  {
   "cell_type": "code",
   "execution_count": 51,
   "id": "7fd48048-258f-434c-b9cc-c856dddcd03d",
   "metadata": {},
   "outputs": [],
   "source": [
    "tools = []\n",
    "\n",
    "for desc in jobs_with_salaries['job_details']:\n",
    "    desc_lower = desc.lower()\n",
    "    desc_list = []\n",
    "    \n",
    "    for item in tools_with_alternatives_unique:\n",
    "        if item in  desc_lower:\n",
    "            desc_list.append(item)\n",
    "\n",
    "    tools.append(desc_list)\n",
    "        \n",
    "\n",
    "\n",
    "jobs_with_salaries['tech_stack_analytics'] = tools "
   ]
  },
  {
   "cell_type": "markdown",
   "id": "94c015ae-499d-40c7-a113-4e998d098193",
   "metadata": {
    "jp-MarkdownHeadingCollapsed": true
   },
   "source": [
    "# Data Transformation - extracting tech stack (With OpenAI gptAPI)"
   ]
  },
  {
   "cell_type": "markdown",
   "id": "811b8c77-b5b7-454c-bbf3-433ee293e54d",
   "metadata": {},
   "source": [
    "# Create a list with all tools/ programming languages mentioned present"
   ]
  },
  {
   "cell_type": "code",
   "execution_count": 52,
   "id": "6fc7d756-b03e-4a71-baee-d1794339b80e",
   "metadata": {},
   "outputs": [],
   "source": [
    "all_tools = []\n",
    "\n",
    "for sublist in jobs_with_salaries['tech_stack_analytics']:\n",
    "    for item in sublist:\n",
    "        if item not in all_tools:\n",
    "            all_tools.append(item)\n",
    "            pass"
   ]
  },
  {
   "cell_type": "markdown",
   "id": "ad2c07ea-c7da-461d-97a8-55dfb25ddc41",
   "metadata": {},
   "source": [
    "# Based on mainlist create sublists grouped by data analysis category "
   ]
  },
  {
   "cell_type": "code",
   "execution_count": 53,
   "id": "19230a5b-88cc-4d61-b32e-d2b7fb74785b",
   "metadata": {},
   "outputs": [],
   "source": [
    "data_visualisation_list =['Excel', 'Looker', 'Powerbi', 'Tableau', 'Qlik Sense', 'Qlik View','Pyplot','Plotly','Seaborn', 'Matplotlib', 'Alteryx']"
   ]
  },
  {
   "cell_type": "code",
   "execution_count": 54,
   "id": "c0d1fa25-9dbc-43c7-a1a0-d2a4266124d5",
   "metadata": {},
   "outputs": [],
   "source": [
    "data_cleaning_tranformation_list = ['Python', 'R', 'OpenRefine', 'Sql', 'Excel', 'Alteryx Designer', 'Dataiku', 'Dax','M','R Studio','Dbt']"
   ]
  },
  {
   "cell_type": "code",
   "execution_count": 55,
   "id": "bd0e0168-623d-4273-9b80-04e0c2f3091e",
   "metadata": {},
   "outputs": [],
   "source": [
    "data_exploration_list = ['Python', 'R', 'Excel', 'Tableau', 'PowerBi', 'Looker', 'Sql', 'Jupyter', 'Pandas', 'Numpy', 'Stata', 'Google Sheets','Matlab', 'R Studio', 'Dplyr', 'Vba', 'Pyplot','Plotly','Seaborn', 'Matplotlib' ]"
   ]
  },
  {
   "cell_type": "code",
   "execution_count": 56,
   "id": "93c2a6c9-468e-4259-8fd6-5c145e2b0bd3",
   "metadata": {},
   "outputs": [],
   "source": [
    "database_data_management_list = ['SqL Server', 'Microsoft SqL Server', 'Redshift', 'Google Bigquery', 'Mysql','Snowflake', 'Access', 'Postgres', 'Microsoft Azure Data Lake', 'Oracle Databases', 'Aws Rds', 'T-Sql', 'Athena']"
   ]
  },
  {
   "cell_type": "code",
   "execution_count": 57,
   "id": "01755389-02f1-4dc3-ae5d-8787bed61e60",
   "metadata": {},
   "outputs": [],
   "source": [
    "data_engineering_list = ['Airflow', 'Aws Glue']"
   ]
  },
  {
   "cell_type": "code",
   "execution_count": 58,
   "id": "bcc0c495-365d-46a1-ae53-4f26bea43f9e",
   "metadata": {},
   "outputs": [],
   "source": [
    "data_science_machine_learning_list = ['Python', 'R','Jupyter', 'Pandas', 'Numpy','Sagemaker', 'Scikit-Learn','Pytorch','Tensorflow']"
   ]
  },
  {
   "cell_type": "code",
   "execution_count": 59,
   "id": "47bd6d75-d49c-49eb-b44a-895c609e2050",
   "metadata": {},
   "outputs": [],
   "source": [
    "data_gathering_list = ['Selenium']"
   ]
  },
  {
   "cell_type": "code",
   "execution_count": 60,
   "id": "90d7054e-8f03-490f-b28c-b79a48c05fc7",
   "metadata": {},
   "outputs": [],
   "source": [
    "cloud_analytics_list = ['Azure', 'Aws', 'Aws S3', 'Aws Redshift', 'Aws Glue','Azure Data Factory', 'Microsoft Azure Data Lake', 'Azure Enterprise Data Platform','S3','Aws Lambda','Aws Rds', 'Google Cloud Platform', 'Sagemaker','Athena'] "
   ]
  },
  {
   "cell_type": "code",
   "execution_count": 61,
   "id": "a3a29138-6508-456e-9c66-a74ee8d543f3",
   "metadata": {},
   "outputs": [],
   "source": [
    "business_intelligence_list = ['Powerbi', 'Tableau', 'Qlik Sense', 'Qlik View', 'Domo', 'Data Studio']"
   ]
  },
  {
   "cell_type": "code",
   "execution_count": 62,
   "id": "deb34747-bc73-415f-bb31-5d1b09791474",
   "metadata": {},
   "outputs": [],
   "source": [
    "concepts_list = ['Business Intelligence', 'Bi', 'Data Collection', 'Data Validation', 'Data Quality', 'Data Visualization', 'Data Modelling', 'Data Analysis', 'Data Management', 'Dashboard Development', 'Data Reliability', 'Data Warehouse', 'Data Preparation' ,'Predictive Models','Business Analysis', 'Data Transformation','Maintaining Databases', 'Etl', 'Elt','Database Modelling', 'Machine Learning Algorithms']"
   ]
  },
  {
   "cell_type": "markdown",
   "id": "8d0cc292-cd0d-4172-b081-d60c989181dd",
   "metadata": {},
   "source": [
    "# Build table for each category, identifying which jobs require the selected tools "
   ]
  },
  {
   "cell_type": "markdown",
   "id": "e29e0984",
   "metadata": {},
   "source": [
    "### data_visualisation_entries"
   ]
  },
  {
   "cell_type": "code",
   "execution_count": 63,
   "id": "5a17758d-46fc-4bf6-ae93-db3a312dd0cd",
   "metadata": {},
   "outputs": [],
   "source": [
    "data_visualisation_entries = jobs_with_salaries[['company_name', 'job_title', 'job_detail_url','job_details']]"
   ]
  },
  {
   "cell_type": "code",
   "execution_count": 64,
   "id": "73981bdf-7e1b-48c7-be96-74cc3704b299",
   "metadata": {},
   "outputs": [],
   "source": [
    "data_visualisation_entries [['Excel', 'Looker', 'Powerbi', 'Tableau', 'Qlik Sense', 'Qlik View','Pyplot','Plotly','Seaborn', 'Matplotlib', 'Alteryx']]=None"
   ]
  },
  {
   "cell_type": "code",
   "execution_count": 65,
   "id": "a4dc7b24-850a-454e-8024-e77e99f3fcc2",
   "metadata": {},
   "outputs": [],
   "source": [
    "for i in data_visualisation_list:\n",
    "    data_visualisation_entries[i] =  data_visualisation_entries['job_details'].str.lower().apply(lambda description: i.lower() in description)"
   ]
  },
  {
   "cell_type": "code",
   "execution_count": 66,
   "id": "61610af2-efaf-4f43-8aca-4a9a33ca2ebd",
   "metadata": {},
   "outputs": [],
   "source": [
    "data_visualisation_entries.to_csv('data_visualisation_entries_new_data.csv',index = False)"
   ]
  },
  {
   "cell_type": "code",
   "execution_count": null,
   "id": "5533b659-c1fa-40f4-83f1-b2b6fdbdfaf5",
   "metadata": {},
   "outputs": [],
   "source": []
  },
  {
   "cell_type": "markdown",
   "id": "b6042f41-3db2-46b1-810a-2c748524efe3",
   "metadata": {},
   "source": [
    "### data_cleaning_tranformation"
   ]
  },
  {
   "cell_type": "code",
   "execution_count": 67,
   "id": "8bb77bd2-dda2-45f3-897f-e281eee6dd4e",
   "metadata": {},
   "outputs": [],
   "source": [
    "data_cleaning_tranformation = jobs_with_salaries[['company_name', 'job_title', 'job_detail_url','job_details']]"
   ]
  },
  {
   "cell_type": "code",
   "execution_count": 68,
   "id": "96b34d79-558b-40fe-a498-597bdce86626",
   "metadata": {},
   "outputs": [],
   "source": [
    "data_cleaning_tranformation [['Python', 'R', 'OpenRefine', 'Sql', 'Excel', 'Alteryx Designer', 'Dax','M','R Studio','Dbt']] = None"
   ]
  },
  {
   "cell_type": "code",
   "execution_count": 69,
   "id": "2cb37974-79b5-4754-956d-9e7db16422e7",
   "metadata": {},
   "outputs": [],
   "source": [
    "for i in data_cleaning_tranformation_list:\n",
    "    data_cleaning_tranformation[i] =  data_cleaning_tranformation['job_details'].str.lower().apply(lambda description: i.lower() in description)"
   ]
  },
  {
   "cell_type": "code",
   "execution_count": 70,
   "id": "5e6648b9-8364-4266-bc66-dfb05732187e",
   "metadata": {},
   "outputs": [],
   "source": [
    "data_cleaning_tranformation.to_csv('data_cleaning_tranformation_new_data.csv',index = False)"
   ]
  },
  {
   "cell_type": "code",
   "execution_count": null,
   "id": "3dc93122-d56a-4fcf-8878-433e77d95c2c",
   "metadata": {},
   "outputs": [],
   "source": []
  },
  {
   "cell_type": "markdown",
   "id": "215ca4a5-ad55-43e7-b5a4-0e91d1b96798",
   "metadata": {},
   "source": [
    "### data_exploration"
   ]
  },
  {
   "cell_type": "code",
   "execution_count": 71,
   "id": "d4ca728d-602b-4267-bd45-c18b36f4da2c",
   "metadata": {},
   "outputs": [],
   "source": [
    "data_exploration = jobs_with_salaries[['company_name', 'job_title', 'job_detail_url','job_details']]"
   ]
  },
  {
   "cell_type": "code",
   "execution_count": 72,
   "id": "074feca6-0d79-4c31-a4c6-afcc55b26f34",
   "metadata": {},
   "outputs": [],
   "source": [
    "data_exploration [['Python', 'R', 'Excel', 'Tableau', 'PowerBi', 'Looker', 'Sql', 'Jupyter', 'Pandas', 'Numpy', 'Stata', 'Google Sheets','Matlab', 'R Studio', 'Dplyr', 'Vba', 'Pyplot','Plotly','Seaborn', 'Matplotlib' ]] = None"
   ]
  },
  {
   "cell_type": "code",
   "execution_count": 73,
   "id": "92666cba-f097-40a3-a48c-e251d0b6c2b2",
   "metadata": {},
   "outputs": [],
   "source": [
    "for i in data_exploration_list:\n",
    "    data_exploration[i] =  data_exploration['job_details'].str.lower().apply(lambda description: i.lower() in description)"
   ]
  },
  {
   "cell_type": "code",
   "execution_count": 74,
   "id": "3eafbfa8-dfbb-4454-b1d1-3805877a1de6",
   "metadata": {},
   "outputs": [],
   "source": [
    "data_exploration.to_csv('data_exploration_new_data.csv',index = False)"
   ]
  },
  {
   "cell_type": "code",
   "execution_count": null,
   "id": "0f1b91ec-dd30-40ae-ade6-26e15aed321d",
   "metadata": {},
   "outputs": [],
   "source": []
  },
  {
   "cell_type": "markdown",
   "id": "93423810-fd1f-4289-9253-9ea219932f8a",
   "metadata": {},
   "source": [
    "### database_data_management"
   ]
  },
  {
   "cell_type": "code",
   "execution_count": 76,
   "id": "a4e1f213-2e24-45eb-9103-92874f452697",
   "metadata": {},
   "outputs": [],
   "source": [
    "database_data_management = jobs_with_salaries[['company_name', 'job_title', 'job_detail_url','job_details']]"
   ]
  },
  {
   "cell_type": "code",
   "execution_count": 77,
   "id": "451f6255-e927-4ed0-9508-4db4140d67c9",
   "metadata": {},
   "outputs": [],
   "source": [
    "database_data_management [['SqL Server', 'Microsoft SqL Server', 'Redshift', 'Google Bigquery', 'Mysql','Snowflake', 'Access', 'Postgres', 'Microsoft Azure Data Lake', 'Oracle Databases', 'Aws Rds', 'T-Sql', 'Sql', 'Athena']] = None"
   ]
  },
  {
   "cell_type": "code",
   "execution_count": 78,
   "id": "72eec2e1-1f4e-4c31-9599-80c22e629089",
   "metadata": {},
   "outputs": [],
   "source": [
    "for i in database_data_management_list:\n",
    "    database_data_management[i] = database_data_management['job_details'].str.lower().apply(lambda description: i.lower() in description)"
   ]
  },
  {
   "cell_type": "code",
   "execution_count": 79,
   "id": "e7707eff-b98f-4a46-ac54-d0efd1f8a9c9",
   "metadata": {},
   "outputs": [],
   "source": [
    "database_data_management.to_csv('database_data_management_new_data.csv',index = False)"
   ]
  },
  {
   "cell_type": "code",
   "execution_count": null,
   "id": "182e76a1-8176-4fdc-9358-21af5264b459",
   "metadata": {},
   "outputs": [],
   "source": []
  },
  {
   "cell_type": "markdown",
   "id": "1d31a321-6607-4121-b055-c90fc136b57b",
   "metadata": {},
   "source": [
    "### data_engineering_list"
   ]
  },
  {
   "cell_type": "code",
   "execution_count": 80,
   "id": "7eeb99f7-f3f1-4825-b95b-6d5df1a70ddb",
   "metadata": {},
   "outputs": [],
   "source": [
    "data_engineering = jobs_with_salaries[['company_name', 'job_title', 'job_detail_url','job_details']]"
   ]
  },
  {
   "cell_type": "code",
   "execution_count": 81,
   "id": "d1ebd65e-c130-4d63-b6f1-900738d5254d",
   "metadata": {},
   "outputs": [],
   "source": [
    "data_engineering [['Airflow', 'Aws Glue']] = None"
   ]
  },
  {
   "cell_type": "code",
   "execution_count": 82,
   "id": "32d3af82-b78f-4201-8c84-f8f5b6907d36",
   "metadata": {},
   "outputs": [],
   "source": [
    "for i in data_engineering_list:\n",
    "    data_engineering[i] = data_engineering['job_details'].str.lower().apply(lambda description: i.lower() in description)"
   ]
  },
  {
   "cell_type": "code",
   "execution_count": 83,
   "id": "2a9ea182-19c1-4e9b-b240-bf937b38aead",
   "metadata": {},
   "outputs": [],
   "source": [
    "data_engineering.to_csv('data_engineering_new_data.csv',index = False)"
   ]
  },
  {
   "cell_type": "code",
   "execution_count": null,
   "id": "270848fc-15cd-49d3-b373-eb6766332874",
   "metadata": {},
   "outputs": [],
   "source": []
  },
  {
   "cell_type": "markdown",
   "id": "810fe6b3-7634-449c-ad02-e4603043b6ed",
   "metadata": {},
   "source": [
    "### data_science_machine_learning_list"
   ]
  },
  {
   "cell_type": "code",
   "execution_count": 84,
   "id": "ab458c26-2c17-4b4d-9568-c75f8234fd43",
   "metadata": {},
   "outputs": [],
   "source": [
    "data_science_machine_learning = jobs_with_salaries[['company_name', 'job_title', 'job_detail_url','job_details']]"
   ]
  },
  {
   "cell_type": "code",
   "execution_count": 85,
   "id": "32ecfc79-f080-481b-92d5-c4b6b1c653d7",
   "metadata": {},
   "outputs": [],
   "source": [
    "data_science_machine_learning [['Python', 'R','Jupyter', 'Pandas', 'Numpy','Sagemaker', 'Scikit-Learn','Pytorch','Tensorflow']] = None\n"
   ]
  },
  {
   "cell_type": "code",
   "execution_count": 86,
   "id": "a6d1596f-0534-489d-8c0a-1853e7b4c5b4",
   "metadata": {},
   "outputs": [],
   "source": [
    "for i in data_science_machine_learning_list:\n",
    "    data_science_machine_learning[i] = data_science_machine_learning['job_details'].str.lower().apply(lambda description: i.lower() in description)"
   ]
  },
  {
   "cell_type": "code",
   "execution_count": 87,
   "id": "76d2e21a-6331-4954-b1b3-4d966194edf2",
   "metadata": {},
   "outputs": [],
   "source": [
    "data_science_machine_learning.to_csv('data_science_machine_learning_new_data.csv',index = False)"
   ]
  },
  {
   "cell_type": "code",
   "execution_count": null,
   "id": "cc7e1649-1f2d-4eae-be5e-58bb02fea0b0",
   "metadata": {},
   "outputs": [],
   "source": []
  },
  {
   "cell_type": "markdown",
   "id": "5c40e900-a880-46c8-8852-18917e07ca56",
   "metadata": {},
   "source": [
    "### data_gathering_list"
   ]
  },
  {
   "cell_type": "code",
   "execution_count": 89,
   "id": "fc7599bf-acee-402b-9f45-8af90be6e97d",
   "metadata": {},
   "outputs": [],
   "source": [
    "data_gathering = jobs_with_salaries[['company_name', 'job_title', 'job_detail_url','job_details']]"
   ]
  },
  {
   "cell_type": "code",
   "execution_count": 90,
   "id": "8cbc4876-7e13-4350-8ebb-be1d958cb2b1",
   "metadata": {},
   "outputs": [],
   "source": [
    "data_gathering[['Selenium']] = None"
   ]
  },
  {
   "cell_type": "code",
   "execution_count": 91,
   "id": "acf73105-3902-4c65-a344-87447a873318",
   "metadata": {},
   "outputs": [],
   "source": [
    "for i in data_gathering_list:\n",
    "    data_gathering[i] = data_gathering['job_details'].str.lower().apply(lambda description: i.lower() in description)"
   ]
  },
  {
   "cell_type": "code",
   "execution_count": 92,
   "id": "c66e098d-bb24-47ff-bc1c-ace2b8962212",
   "metadata": {},
   "outputs": [],
   "source": [
    "data_gathering.to_csv('data_gathering_new_data.csv',index = False)"
   ]
  },
  {
   "cell_type": "code",
   "execution_count": null,
   "id": "2c1b0921-dee3-4a6e-8679-dc14b3b3efa6",
   "metadata": {},
   "outputs": [],
   "source": []
  },
  {
   "cell_type": "markdown",
   "id": "1ec36db9-1d0f-425c-a223-dbf25b18bbeb",
   "metadata": {},
   "source": [
    "### cloud_analytics_list"
   ]
  },
  {
   "cell_type": "code",
   "execution_count": 93,
   "id": "cb3ad131-5441-40ba-93d0-fccb278e8956",
   "metadata": {},
   "outputs": [],
   "source": [
    "cloud_analytics = jobs_with_salaries[['company_name', 'job_title', 'job_detail_url','job_details']]"
   ]
  },
  {
   "cell_type": "code",
   "execution_count": 94,
   "id": "5a61e51a-adfa-4471-ab28-af7410670139",
   "metadata": {},
   "outputs": [],
   "source": [
    "cloud_analytics [['Azure', 'Aws', 'Aws S3', 'Aws Redshift', 'Aws Glue','Azure Data Factory', 'Microsoft Azure Data Lake', 'Azure Enterprise Data Platform','S3','Aws Lambda','Aws Rds', 'Google Cloud Platform', 'Sagemaker','Athena']] = None"
   ]
  },
  {
   "cell_type": "code",
   "execution_count": 95,
   "id": "795dfeac-ec89-4508-a98c-49465c918553",
   "metadata": {},
   "outputs": [],
   "source": [
    "for i in cloud_analytics_list:\n",
    "    cloud_analytics[i] = cloud_analytics['job_details'].str.lower().apply(lambda description: i.lower() in description)"
   ]
  },
  {
   "cell_type": "code",
   "execution_count": 96,
   "id": "7812c0d9-8125-4442-a677-7901eb872852",
   "metadata": {},
   "outputs": [],
   "source": [
    "cloud_analytics.to_csv('cloud_analytics_new_data.csv',index = False)"
   ]
  },
  {
   "cell_type": "code",
   "execution_count": null,
   "id": "aaf49cda-5118-416f-897b-79d6ddba1f86",
   "metadata": {},
   "outputs": [],
   "source": []
  },
  {
   "cell_type": "markdown",
   "id": "17361848-f61b-4d2f-af76-073a160d683e",
   "metadata": {},
   "source": [
    "### cloud_analytics_list"
   ]
  },
  {
   "cell_type": "code",
   "execution_count": 97,
   "id": "51d2abdb-fbc6-480c-b08d-e250172d0763",
   "metadata": {},
   "outputs": [],
   "source": [
    "business_intelligence = jobs_with_salaries[['company_name', 'job_title', 'job_detail_url','job_details']]"
   ]
  },
  {
   "cell_type": "code",
   "execution_count": 98,
   "id": "f4d285ca-745e-4801-8b5d-c040c81b77de",
   "metadata": {},
   "outputs": [],
   "source": [
    "business_intelligence [['Powerbi', 'Tableau', 'Qlik Sense', 'Qlik View', 'Domo', 'Data Studio']] = None"
   ]
  },
  {
   "cell_type": "code",
   "execution_count": 99,
   "id": "b17d5fae-45a1-4a9f-b7ec-363d5ec3d19a",
   "metadata": {},
   "outputs": [],
   "source": [
    "for i in business_intelligence_list:\n",
    "    business_intelligence[i] = business_intelligence['job_details'].str.lower().apply(lambda description: i.lower() in description)"
   ]
  },
  {
   "cell_type": "code",
   "execution_count": 100,
   "id": "186fe520-6cce-4c1a-be57-63ceae1b3274",
   "metadata": {},
   "outputs": [],
   "source": [
    "business_intelligence.to_csv('business_intelligence_new_data.csv',index = False)"
   ]
  },
  {
   "cell_type": "code",
   "execution_count": null,
   "id": "efffc451-64bd-4307-a64a-b51969234f6b",
   "metadata": {},
   "outputs": [],
   "source": []
  },
  {
   "cell_type": "markdown",
   "id": "27234abb-5d95-42ce-90cd-54f6db37c116",
   "metadata": {},
   "source": [
    "### concepts_list"
   ]
  },
  {
   "cell_type": "code",
   "execution_count": 101,
   "id": "442a7ed0-f396-429c-9e3f-0f0fe594c469",
   "metadata": {},
   "outputs": [],
   "source": [
    "concepts = jobs_with_salaries[['company_name', 'job_title', 'job_detail_url','job_details']]"
   ]
  },
  {
   "cell_type": "code",
   "execution_count": 102,
   "id": "ce4a120d-b292-4870-9b54-b88acc58f644",
   "metadata": {},
   "outputs": [],
   "source": [
    "concepts [['Business Intelligence', 'Bi', 'Data Collection', 'Data Validation', 'Data Quality', 'Data Visualization', 'Data Modelling', 'Data Analysis', 'Data Management', 'Dashboard Development', 'Data Reliability', 'Data Warehouse', 'Data Preparation' ,'Predictive Models','Business Analysis', 'Data Transformation','Maintaining Databases', 'Etl', 'Elt','Database Modelling', 'Machine Learning Algorithms']] = None"
   ]
  },
  {
   "cell_type": "code",
   "execution_count": 103,
   "id": "335a65a5-fe01-4012-b9ec-c9abe1e9ab3a",
   "metadata": {},
   "outputs": [],
   "source": [
    "for i in concepts_list:\n",
    "    concepts[i] = concepts['job_details'].str.lower().apply(lambda description: i.lower() in description)"
   ]
  },
  {
   "cell_type": "code",
   "execution_count": 104,
   "id": "8f3279f0-1d45-4a42-bac5-678e86d02150",
   "metadata": {},
   "outputs": [],
   "source": [
    "concepts.to_csv('concepts_new_data.csv',index = False)"
   ]
  },
  {
   "cell_type": "code",
   "execution_count": null,
   "id": "21e5b301-e321-4012-bb16-9633c8c9d33e",
   "metadata": {},
   "outputs": [],
   "source": []
  },
  {
   "cell_type": "markdown",
   "id": "49268418-bc73-459c-9224-1568a56a86c4",
   "metadata": {},
   "source": [
    "### Categorizing jobs"
   ]
  },
  {
   "cell_type": "code",
   "execution_count": 106,
   "id": "29a4b19d-cdbd-4e6b-8c4e-b782cb3226d1",
   "metadata": {},
   "outputs": [],
   "source": [
    "job_category =[]\n",
    "\n",
    "for position in jobs_with_salaries['job_title']:\n",
    "    position = str(position)\n",
    "    if 'data' in position.lower() and ('analyst' in position.lower() or 'analysis' in position.lower()) and 'business' not in position.lower():\n",
    "        job_category.append('Data Analyst')\n",
    "    elif 'business' and 'data' and 'analyst' in position.lower():\n",
    "        job_category.append('Business Data Analyst')\n",
    "    elif 'insight' and 'analyst' in position.lower():\n",
    "        job_category.append('Insight Analyst')\n",
    "    elif 'business' and 'intelligence' in position.lower():\n",
    "        job_category.append('Business Intelligence Analyst')\n",
    "    elif 'bi' in position.lower():\n",
    "        job_category.append('Business Intelligence Analyst')\n",
    "    elif 'data' and 'scientist' in position.lower():\n",
    "        job_category.append('Data Scientist')\n",
    "    elif ('data' and 'engineer') in position.lower() or ('engineer') in position.lower():\n",
    "        job_category.append('Data Engineer')\n",
    "    elif ('quantitative' or 'quant') in position.lower() and 'analyst' in position.lower():\n",
    "        job_category.append('Quantitative Analyst')\n",
    "    elif ('financial' or 'finance') in position.lower() and 'analyst' in position.lower():\n",
    "        job_category.append('Financial Analyst')\n",
    "    else:\n",
    "        job_category.append('Other')\n",
    "\n",
    "\n",
    "jobs_with_salaries['job_category'] = job_category"
   ]
  },
  {
   "cell_type": "code",
   "execution_count": 107,
   "id": "e192dd81-75c8-4ae5-95d7-734ff4455cd6",
   "metadata": {},
   "outputs": [],
   "source": [
    "jobs_with_salaries = jobs_with_salaries.rename(columns = {'tech_stack_analytics' : 'tech_stack_list'})"
   ]
  },
  {
   "cell_type": "markdown",
   "id": "346efb5f-7d78-42ad-b9db-5e09d17c66eb",
   "metadata": {},
   "source": [
    "# Formatting columns"
   ]
  },
  {
   "cell_type": "code",
   "execution_count": 109,
   "id": "523200f6-cdf5-4551-8778-310a89b1c98f",
   "metadata": {},
   "outputs": [],
   "source": [
    "jobs_with_salaries['company_name'] = jobs_with_salaries['company_name'].str.title()"
   ]
  },
  {
   "cell_type": "code",
   "execution_count": null,
   "id": "30979c44-3947-4942-b13d-c72daa83bc60",
   "metadata": {},
   "outputs": [],
   "source": []
  },
  {
   "cell_type": "markdown",
   "id": "09671b8c-49df-4308-abcb-9af9fded8b85",
   "metadata": {},
   "source": [
    "# Export final dataset"
   ]
  },
  {
   "cell_type": "code",
   "execution_count": 110,
   "id": "5c60f26a-5dcd-4221-bae1-f549b5d3878a",
   "metadata": {},
   "outputs": [],
   "source": [
    "jobs_with_salaries.to_csv('final_jobs_df_new_data.csv', index = False)"
   ]
  },
  {
   "cell_type": "code",
   "execution_count": null,
   "id": "e8b348e7-dabc-44d8-b1ff-ee944afc8d03",
   "metadata": {},
   "outputs": [],
   "source": []
  }
 ],
 "metadata": {
  "kernelspec": {
   "display_name": "Python 3 (ipykernel)",
   "language": "python",
   "name": "python3"
  },
  "language_info": {
   "codemirror_mode": {
    "name": "ipython",
    "version": 3
   },
   "file_extension": ".py",
   "mimetype": "text/x-python",
   "name": "python",
   "nbconvert_exporter": "python",
   "pygments_lexer": "ipython3",
   "version": "3.12.1"
  }
 },
 "nbformat": 4,
 "nbformat_minor": 5
}
